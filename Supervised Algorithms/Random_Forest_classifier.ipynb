{
  "nbformat": 4,
  "nbformat_minor": 0,
  "metadata": {
    "colab": {
      "provenance": []
    },
    "kernelspec": {
      "name": "python3",
      "display_name": "Python 3"
    },
    "language_info": {
      "name": "python"
    }
  },
  "cells": [
    {
      "cell_type": "code",
      "source": [
        "!pip -q install scikit-learn matplotlib pandas numpy\n",
        "# --- Imports ---\n",
        "import numpy as np\n",
        "import pandas as pd\n",
        "import matplotlib.pyplot as plt\n",
        "\n",
        "from sklearn import datasets\n",
        "from sklearn.model_selection import train_test_split, GridSearchCV\n",
        "from sklearn.preprocessing import StandardScaler\n",
        "from sklearn.ensemble import RandomForestClassifier\n",
        "from sklearn.pipeline import Pipeline\n",
        "from sklearn.metrics import accuracy_score, classification_report, ConfusionMatrixDisplay"
      ],
      "metadata": {
        "id": "dAHW344rXLWU"
      },
      "execution_count": 9,
      "outputs": []
    },
    {
      "cell_type": "code",
      "source": [],
      "metadata": {
        "id": "NHNKOHWPbzMH"
      },
      "execution_count": null,
      "outputs": []
    },
    {
      "cell_type": "code",
      "source": [
        "iris = datasets.load_iris()\n",
        "X = iris.data\n",
        "y = iris.target\n",
        "target_names = iris.target_names"
      ],
      "metadata": {
        "id": "ztf-SkFyXWUn"
      },
      "execution_count": 12,
      "outputs": []
    },
    {
      "cell_type": "code",
      "source": [
        "# --- 2) Train/validation split ---\n",
        "X_train, X_test, y_train, y_test = train_test_split(\n",
        "    X, y, test_size=0.25, random_state=42, stratify=y\n",
        ")"
      ],
      "metadata": {
        "id": "fyiPmpjnXjQs"
      },
      "execution_count": 13,
      "outputs": []
    },
    {
      "cell_type": "code",
      "source": [
        "# --- 3) Quick baseline with default params ---\n",
        "rf_base = RandomForestClassifier(\n",
        "    n_estimators=200,\n",
        "    random_state=42,\n",
        "    n_jobs=-1\n",
        ")\n",
        "rf_base.fit(X_train, y_train)\n",
        "y_pred_base = rf_base.predict(X_test)\n",
        "\n",
        "print(\"Baseline Accuracy:\", accuracy_score(y_test, y_pred_base))\n",
        "print(\"\\nBaseline Classification Report:\")\n",
        "print(classification_report(y_test, y_pred_base, target_names=target_names))"
      ],
      "metadata": {
        "colab": {
          "base_uri": "https://localhost:8080/"
        },
        "id": "eXsuMdn6XlkK",
        "outputId": "73cf5617-110b-432f-fb45-b690ae351c18"
      },
      "execution_count": 14,
      "outputs": [
        {
          "output_type": "stream",
          "name": "stdout",
          "text": [
            "Baseline Accuracy: 0.8947368421052632\n",
            "\n",
            "Baseline Classification Report:\n",
            "              precision    recall  f1-score   support\n",
            "\n",
            "      setosa       1.00      1.00      1.00        12\n",
            "  versicolor       0.80      0.92      0.86        13\n",
            "   virginica       0.91      0.77      0.83        13\n",
            "\n",
            "    accuracy                           0.89        38\n",
            "   macro avg       0.90      0.90      0.90        38\n",
            "weighted avg       0.90      0.89      0.89        38\n",
            "\n"
          ]
        }
      ]
    },
    {
      "cell_type": "code",
      "source": [
        "param_grid = {\n",
        "    \"n_estimators\": [100, 200, 400],\n",
        "    \"max_depth\": [None, 5, 10, 20],\n",
        "    \"min_samples_split\": [2, 5, 10],\n",
        "    \"min_samples_leaf\": [1, 2, 4],\n",
        "    \"max_features\": [\"sqrt\", \"log2\", None],\n",
        "    \"bootstrap\": [True, False],\n",
        "}\n",
        "rf = RandomForestClassifier(random_state=42, n_jobs=-1)\n",
        "grid = GridSearchCV(\n",
        "    estimator=rf,\n",
        "    param_grid=param_grid,\n",
        "    scoring=\"accuracy\",\n",
        "    cv=5,\n",
        "    n_jobs=-1,\n",
        "    verbose=0,\n",
        ")\n",
        "grid.fit(X_train, y_train)\n",
        "\n",
        "print(\"\\nBest Params:\", grid.best_params_)\n",
        "print(\"Best CV Accuracy:\", grid.best_score_)"
      ],
      "metadata": {
        "id": "sjyrwSU2ZZ_Z"
      },
      "execution_count": null,
      "outputs": []
    },
    {
      "cell_type": "code",
      "source": [
        "best_model = grid.best_estimator_\n",
        "y_pred = best_model.predict(X_test)\n",
        "print(\"\\nTest Accuracy (Best Model):\", accuracy_score(y_test, y_pred))\n",
        "print(\"\\nClassification Report (Best Model):\")\n",
        "print(classification_report(y_test, y_pred, target_names=target_names))\n",
        "\n",
        "# Confusion matrix\n",
        "disp = ConfusionMatrixDisplay.from_predictions(\n",
        "    y_test, y_pred, display_labels=target_names, xticks_rotation=45\n",
        ")\n",
        "plt.title(\"Confusion Matrix - Random Forest (Best Model)\")\n",
        "plt.tight_layout()\n",
        "plt.show()"
      ],
      "metadata": {
        "id": "_N_FOXcVdRT9"
      },
      "execution_count": null,
      "outputs": []
    },
    {
      "cell_type": "code",
      "source": [
        "# --- 6) Feature importance plot ---\n",
        "importances = best_model.feature_importances_\n",
        "indices = np.argsort(importances)\n",
        "\n",
        "plt.figure(figsize=(6, 4.5))\n",
        "plt.barh(range(len(indices)), importances[indices])\n",
        "plt.yticks(range(len(indices)), [feature_names[i] for i in indices])\n",
        "plt.xlabel(\"Feature Importance\")\n",
        "plt.title(\"Random Forest Feature Importances\")\n",
        "plt.tight_layout()\n",
        "plt.show()\n",
        "\n",
        "# --- 7) Save the trained model ---\n",
        "joblib.dump(best_model, \"random_forest_best_model.joblib\")\n",
        "print(\"\\nSaved best model to random_forest_best_model.joblib\")"
      ],
      "metadata": {
        "id": "Pcp6XwbTdSam"
      },
      "execution_count": null,
      "outputs": []
    },
    {
      "cell_type": "code",
      "source": [
        "# --- 8) Predict on a new sample (match feature order!) ---\n",
        "# For Iris: [sepal length, sepal width, petal length, petal width]\n",
        "sample = np.array([[5.4, 3.9, 1.7, 0.4]])\n",
        "pred = best_model.predict(sample)[0]\n",
        "proba = best_model.predict_proba(sample)[0]\n",
        "print(f\"\\nNew sample predicted class: {target_names[pred]}\")\n",
        "print(\"Class probabilities:\", dict(zip(target_names, np.round(proba, 3))))"
      ],
      "metadata": {
        "id": "1oY0KwZ1xew7"
      },
      "execution_count": null,
      "outputs": []
    }
  ]
}